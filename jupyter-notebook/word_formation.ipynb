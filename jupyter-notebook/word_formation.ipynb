{
 "cells": [
  {
   "cell_type": "code",
   "execution_count": 1,
   "metadata": {},
   "outputs": [],
   "source": [
    "import cv2\n",
    "import numpy as np\n",
    "import pickle\n",
    "import imutils"
   ]
  },
  {
   "cell_type": "code",
   "execution_count": 2,
   "metadata": {},
   "outputs": [],
   "source": [
    "img = cv2.imread(\"/home/jak/Desktop/OCR/final/image.jpg\",0)\n",
    "cv2.imshow(\"img\", imutils.resize(img, height = 650))\n",
    "cv2.waitKey(0)\n",
    "cv2.destroyAllWindows()\n",
    "gray=img"
   ]
  },
  {
   "cell_type": "code",
   "execution_count": 3,
   "metadata": {},
   "outputs": [],
   "source": [
    "_,thresh = cv2.threshold(gray,150,255,cv2.THRESH_BINARY_INV) \n",
    "kernel = cv2.getStructuringElement(cv2.MORPH_CROSS,(5,5))\n",
    "dilated = cv2.dilate(thresh,kernel,iterations = 2)\n",
    "contours, hierarchy = cv2.findContours(dilated,cv2.RETR_EXTERNAL,cv2.CHAIN_APPROX_NONE) \n"
   ]
  },
  {
   "cell_type": "code",
   "execution_count": 4,
   "metadata": {},
   "outputs": [],
   "source": [
    "def resize2SquareKeepingAspectRation(img, interpolation, size=28):\n",
    "    h, w = img.shape[:2]\n",
    "    c = None if len(img.shape) < 3 else img.shape[2]\n",
    "    if h == w: return cv2.resize(img, (size, size), interpolation)\n",
    "    if h > w: dif = h\n",
    "    else:     dif = w\n",
    "    x_pos = int((dif - w)/2.)\n",
    "    y_pos = int((dif - h)/2.)\n",
    "    if c is None:\n",
    "        mask = np.zeros((dif, dif), dtype=img.dtype)\n",
    "        mask[y_pos:y_pos+h, x_pos:x_pos+w] = img[:h, :w]\n",
    "    else:\n",
    "        mask = np.zeros((dif, dif, c), dtype=img.dtype)\n",
    "        mask[y_pos:y_pos+h, x_pos:x_pos+w, :] = img[:h, :w, :]\n",
    "    return cv2.resize(mask, (size, size), interpolation)"
   ]
  },
  {
   "cell_type": "code",
   "execution_count": 5,
   "metadata": {},
   "outputs": [],
   "source": [
    "def tell_the_word(image,model):\n",
    "    image = resize2SquareKeepingAspectRation(image, cv2.INTER_AREA)\n",
    "    kernel = cv2.getStructuringElement(cv2.MORPH_CROSS,(1,1))\n",
    "    image = cv2.dilate(image,kernel,iterations = 1)\n",
    "    \n",
    "    array=[]\n",
    "    array.insert(0,image)\n",
    "    arr=np.asarray(array)\n",
    "    arr = arr.reshape(1,28,28,1)\n",
    "    p=model.predict(arr)\n",
    "    mylist=np.array(p).tolist()\n",
    "    ind = np.argmax(mylist)\n",
    "    return ind"
   ]
  },
  {
   "cell_type": "code",
   "execution_count": 6,
   "metadata": {},
   "outputs": [],
   "source": [
    "#finding only relevant contours\n",
    "list1=[]\n",
    "for contour in contours:\n",
    "    [x,y,w,h] = cv2.boundingRect(contour)\n",
    "    \n",
    "    if h>150 or w>150:\n",
    "        continue\n",
    "    if h<30 or w<30:\n",
    "        continue\n",
    "    if x>=img.shape[0] or y>=img.shape[1]:\n",
    "        continue\n",
    "    list1.append([x,y,w,h])\n",
    "list1.reverse()    #this is because by default it arranges in decreasing value of y"
   ]
  },
  {
   "cell_type": "code",
   "execution_count": 7,
   "metadata": {},
   "outputs": [
    {
     "name": "stderr",
     "output_type": "stream",
     "text": [
      "Using TensorFlow backend.\n"
     ]
    },
    {
     "name": "stdout",
     "output_type": "stream",
     "text": [
      "WARNING:tensorflow:From /home/jak/.local/lib/python3.6/site-packages/tensorflow/python/framework/op_def_library.py:263: colocate_with (from tensorflow.python.framework.ops) is deprecated and will be removed in a future version.\n",
      "Instructions for updating:\n",
      "Colocations handled automatically by placer.\n",
      "WARNING:tensorflow:From /home/jak/.local/lib/python3.6/site-packages/keras/backend/tensorflow_backend.py:3445: calling dropout (from tensorflow.python.ops.nn_ops) with keep_prob is deprecated and will be removed in a future version.\n",
      "Instructions for updating:\n",
      "Please use `rate` instead of `keep_prob`. Rate should be set to `rate = 1 - keep_prob`.\n",
      "WARNING:tensorflow:From /home/jak/.local/lib/python3.6/site-packages/tensorflow/python/ops/math_ops.py:3066: to_int32 (from tensorflow.python.ops.math_ops) is deprecated and will be removed in a future version.\n",
      "Instructions for updating:\n",
      "Use tf.cast instead.\n"
     ]
    }
   ],
   "source": [
    "with open('/home/jak/Desktop/myhandwriting/models/writing99', 'rb') as f:\n",
    "    model = pickle.load(f)"
   ]
  },
  {
   "cell_type": "code",
   "execution_count": 8,
   "metadata": {},
   "outputs": [
    {
     "name": "stdout",
     "output_type": "stream",
     "text": [
      "MY NME ISKABI KABIKNAGPAL\n"
     ]
    }
   ],
   "source": [
    "word = \"\"\n",
    "a=[]\n",
    "for i in range(0,len(list1)):\n",
    "    a.append(list1[i])\n",
    "    if i+1==len(list1):\n",
    "        a=sorted(a,key=lambda l:l[0])\n",
    "        for a1 in a:\n",
    "            [x,y,w,h] = a1\n",
    "            x=x-5\n",
    "            y=y-5\n",
    "            w=w+10\n",
    "            h=h+10\n",
    "            lol = dilated[y:y+h,x:x+w]\n",
    "            lol.astype('uint8')\n",
    "            alpha = tell_the_word(lol,model)\n",
    "            word = word + chr(65+alpha)\n",
    "    elif -200 < list1[i][1]-list1[i+1][1] <200 :\n",
    "        continue\n",
    "    else:\n",
    "        a=sorted(a,key=lambda l:l[0])\n",
    "        for a1 in a:\n",
    "            [x,y,w,h] = a1\n",
    "            x=x-5\n",
    "            y=y-5\n",
    "            w=w+10\n",
    "            h=h+10\n",
    "            lol = dilated[y:y+h,x:x+w]\n",
    "            lol.astype('uint8')\n",
    "            alpha = tell_the_word(lol,model)\n",
    "            word = word + chr(65+alpha)\n",
    "        word = word + \" \"\n",
    "        a=[]\n",
    "print(word)"
   ]
  },
  {
   "cell_type": "code",
   "execution_count": null,
   "metadata": {},
   "outputs": [],
   "source": []
  }
 ],
 "metadata": {
  "kernelspec": {
   "display_name": "Python 3",
   "language": "python",
   "name": "python3"
  },
  "language_info": {
   "codemirror_mode": {
    "name": "ipython",
    "version": 3
   },
   "file_extension": ".py",
   "mimetype": "text/x-python",
   "name": "python",
   "nbconvert_exporter": "python",
   "pygments_lexer": "ipython3",
   "version": "3.6.7"
  }
 },
 "nbformat": 4,
 "nbformat_minor": 2
}
