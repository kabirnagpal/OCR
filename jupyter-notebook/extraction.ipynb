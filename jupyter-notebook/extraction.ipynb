{
 "cells": [
  {
   "cell_type": "code",
   "execution_count": 1,
   "metadata": {},
   "outputs": [],
   "source": [
    "import cv2\n",
    "import numpy as np\n",
    "import pickle\n",
    "import imutils"
   ]
  },
  {
   "cell_type": "code",
   "execution_count": 2,
   "metadata": {},
   "outputs": [],
   "source": [
    "img = cv2.imread(\"/home/jak/Desktop/myhandwriting/final/image12.jpg\",0)\n",
    "cv2.imshow(\"img\", imutils.resize(img, height = 650))\n",
    "cv2.waitKey(0)\n",
    "cv2.destroyAllWindows()\n",
    "gray=img"
   ]
  },
  {
   "cell_type": "code",
   "execution_count": 3,
   "metadata": {},
   "outputs": [],
   "source": [
    "_,thresh = cv2.threshold(gray,150,255,cv2.THRESH_BINARY_INV) \n",
    "kernel = cv2.getStructuringElement(cv2.MORPH_CROSS,(5,5))\n",
    "dilated = cv2.dilate(thresh,kernel,iterations = 2)\n",
    "contours, hierarchy = cv2.findContours(dilated,cv2.RETR_EXTERNAL,cv2.CHAIN_APPROX_NONE) \n"
   ]
  },
  {
   "cell_type": "code",
   "execution_count": 4,
   "metadata": {},
   "outputs": [],
   "source": [
    "def resize2SquareKeepingAspectRation(img, interpolation, size=28):\n",
    "    h, w = img.shape[:2]\n",
    "    c = None if len(img.shape) < 3 else img.shape[2]\n",
    "    if h == w: return cv2.resize(img, (size, size), interpolation)\n",
    "    if h > w: dif = h\n",
    "    else:     dif = w\n",
    "    x_pos = int((dif - w)/2.)\n",
    "    y_pos = int((dif - h)/2.)\n",
    "    if c is None:\n",
    "        mask = np.zeros((dif, dif), dtype=img.dtype)\n",
    "        mask[y_pos:y_pos+h, x_pos:x_pos+w] = img[:h, :w]\n",
    "    else:\n",
    "        mask = np.zeros((dif, dif, c), dtype=img.dtype)\n",
    "        mask[y_pos:y_pos+h, x_pos:x_pos+w, :] = img[:h, :w, :]\n",
    "    return cv2.resize(mask, (size, size), interpolation)"
   ]
  },
  {
   "cell_type": "code",
   "execution_count": 5,
   "metadata": {},
   "outputs": [],
   "source": [
    "def tell_the_word(image,model):\n",
    "    image = resize2SquareKeepingAspectRation(image, cv2.INTER_AREA)\n",
    "    kernel = cv2.getStructuringElement(cv2.MORPH_CROSS,(1,1))\n",
    "    image = cv2.dilate(image,kernel,iterations = 1)\n",
    "    #cv2.imshow(\"img\", image)\n",
    "    #cv2.waitKey(0)\n",
    "    #cv2.destroyAllWindows()\n",
    "    \n",
    "    array=[]\n",
    "    array.insert(0,image)\n",
    "    arr=np.asarray(array)\n",
    "    arr = arr.reshape(1,28,28,1)\n",
    "    p=model.predict(arr)\n",
    "    mylist=np.array(p).tolist()\n",
    "    ind = np.argmax(mylist)\n",
    "    return ind"
   ]
  },
  {
   "cell_type": "code",
   "execution_count": 6,
   "metadata": {},
   "outputs": [
    {
     "name": "stderr",
     "output_type": "stream",
     "text": [
      "Using TensorFlow backend.\n"
     ]
    },
    {
     "name": "stdout",
     "output_type": "stream",
     "text": [
      "WARNING:tensorflow:From /home/jak/.local/lib/python3.6/site-packages/tensorflow/python/framework/op_def_library.py:263: colocate_with (from tensorflow.python.framework.ops) is deprecated and will be removed in a future version.\n",
      "Instructions for updating:\n",
      "Colocations handled automatically by placer.\n",
      "WARNING:tensorflow:From /home/jak/.local/lib/python3.6/site-packages/keras/backend/tensorflow_backend.py:3445: calling dropout (from tensorflow.python.ops.nn_ops) with keep_prob is deprecated and will be removed in a future version.\n",
      "Instructions for updating:\n",
      "Please use `rate` instead of `keep_prob`. Rate should be set to `rate = 1 - keep_prob`.\n",
      "WARNING:tensorflow:From /home/jak/.local/lib/python3.6/site-packages/tensorflow/python/ops/math_ops.py:3066: to_int32 (from tensorflow.python.ops.math_ops) is deprecated and will be removed in a future version.\n",
      "Instructions for updating:\n",
      "Use tf.cast instead.\n",
      "K\n",
      "A\n",
      "B\n",
      "W\n",
      "R\n",
      "L\n",
      "A\n",
      "N\n",
      "I\n",
      "R\n",
      "M\n",
      "U\n",
      "S\n",
      "I\n",
      "V\n",
      "A\n",
      "H\n",
      "T\n",
      "M\n",
      "A\n",
      "R\n",
      "J\n"
     ]
    }
   ],
   "source": [
    "with open('/home/jak/Desktop/myhandwriting/models/writing99', 'rb') as f:\n",
    "    model = pickle.load(f)\n",
    "\n",
    "for contour in contours:\n",
    "    [x,y,w,h] = cv2.boundingRect(contour)\n",
    "    \n",
    "    if h>150 or w>150:\n",
    "        continue\n",
    "    if h<30 or w<30:\n",
    "        continue\n",
    "    \n",
    "    if x>=img.shape[0] or y>=img.shape[1]:\n",
    "        continue\n",
    "    cv2.rectangle(img,(x,y),(x+w,y+h),(0,0,255),1)\n",
    "    x=x-5\n",
    "    y=y-5\n",
    "    w=w+10\n",
    "    h=h+10\n",
    "    lol = dilated[y:y+h,x:x+w]\n",
    "    lol.astype('uint8')\n",
    "    alpha = tell_the_word(lol,model)\n",
    "    cv2.putText(img, chr(65 + alpha), (x+5,y-5), cv2.FONT_HERSHEY_SIMPLEX, 1, (0,0,0), 1)\n",
    "    print(chr(65+alpha))"
   ]
  },
  {
   "cell_type": "code",
   "execution_count": 7,
   "metadata": {},
   "outputs": [],
   "source": [
    "cv2.imshow(\"Scanned\", imutils.resize(img, height = 650))\n",
    "cv2.waitKey(0)\n",
    "cv2.destroyAllWindows()"
   ]
  },
  {
   "cell_type": "code",
   "execution_count": null,
   "metadata": {},
   "outputs": [],
   "source": []
  }
 ],
 "metadata": {
  "kernelspec": {
   "display_name": "Python 3",
   "language": "python",
   "name": "python3"
  },
  "language_info": {
   "codemirror_mode": {
    "name": "ipython",
    "version": 3
   },
   "file_extension": ".py",
   "mimetype": "text/x-python",
   "name": "python",
   "nbconvert_exporter": "python",
   "pygments_lexer": "ipython3",
   "version": "3.6.7"
  }
 },
 "nbformat": 4,
 "nbformat_minor": 2
}
